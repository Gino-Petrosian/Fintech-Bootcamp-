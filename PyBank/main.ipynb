{
 "cells": [
  {
   "cell_type": "markdown",
   "id": "1b0a54b6-7878-473b-9e28-d1744aca02d6",
   "metadata": {},
   "source": [
    "Importing Dependicies ** Go over Markdown editing and make changes **"
   ]
  },
  {
   "cell_type": "code",
   "execution_count": 1,
   "id": "f21940f1",
   "metadata": {},
   "outputs": [],
   "source": [
    "from pathlib import Path\n",
    "import csv"
   ]
  },
  {
   "cell_type": "markdown",
   "id": "1e743e36",
   "metadata": {},
   "source": [
    "Setting metric variables"
   ]
  },
  {
   "cell_type": "code",
   "execution_count": 2,
   "id": "0f4b8951",
   "metadata": {},
   "outputs": [],
   "source": [
    "total_num_months = 0\n",
    "net_total = 0 \n",
    "avg_chg = 0\n",
    "greatest_inc_p = 0 # date and amount\n",
    "greatest_dec_p = 0 # date and amount\n"
   ]
  },
  {
   "cell_type": "markdown",
   "id": "69850e1e",
   "metadata": {},
   "source": [
    "Declaring CSV path variable"
   ]
  },
  {
   "cell_type": "code",
   "execution_count": 3,
   "id": "66c4dd4f",
   "metadata": {},
   "outputs": [],
   "source": [
    "budgetdtpath = Path('C:\\\\Users\\\\Gino\\\\OneDrive\\\\Documents\\\\GitHub\\\\python-challenge\\\\PyBank\\\\Resources\\\\budget_data.csv')"
   ]
  },
  {
   "cell_type": "markdown",
   "id": "198ddf52",
   "metadata": {},
   "source": [
    "Main script"
   ]
  },
  {
   "cell_type": "code",
   "execution_count": 4,
   "id": "18b729dd",
   "metadata": {},
   "outputs": [],
   "source": [
    "# Using open function to open the csv path as budget_dt with delimiter set to ,\n",
    "with open(budgetdtpath, 'r') as budget_dt:\n",
    "    readcsv = csv.reader(budget_dt, delimiter=\",\")\n",
    "\n",
    "    # Setting header variable and skipping over it in the data file\n",
    "    header = next(readcsv)\n",
    "    \n",
    "    # Setting variables/ metric values\n",
    "    p_l = []\n",
    "    total_change = 0\n",
    "    count = 0\n",
    "    total_num_months = 0 \n",
    "    #Iterating over the data file\n",
    "    for row, pnl in readcsv:\n",
    "        \n",
    "        # 1) Calculating total number of months\n",
    "        total_num_months += 1\n",
    "        \n",
    "        # 2) Calculating net total pnl\n",
    "        net_total += int(pnl)\n"
   ]
  },
  {
   "cell_type": "markdown",
   "id": "650207bc",
   "metadata": {},
   "source": [
    "3) Calculating average change in Proft and Losses over the entire period"
   ]
  },
  {
   "cell_type": "code",
   "execution_count": 5,
   "id": "4970b87c",
   "metadata": {},
   "outputs": [],
   "source": [
    "# Using open function to open the csv path as budget_dt with delimiter set to ,\n",
    "with open(budgetdtpath, 'r') as budget_dt:\n",
    "    readcsv = csv.reader(budget_dt, delimiter=\",\")\n",
    "\n",
    "    # Setting header variable and skipping over it in the data file\n",
    "    header = next(readcsv)\n",
    "    \n",
    "    # Setting variables/ metric values\n",
    "    p_l = []\n",
    "    total_change = 0\n",
    "    count = 0\n",
    "    \n",
    "    # Ierating over csv file and appending Profit / Loss column to new list\n",
    "    for row in readcsv:\n",
    "        p_l.append(int(row[1]))    \n",
    "       \n",
    "    # Iterating through new list \n",
    "    for i in range(1, len(p_l)):\n",
    "        \n",
    "        # Creating a new variable that consecutively calculates the diffrence between each element in the new list\n",
    "        change = p_l[i] - p_l[i - 1]\n",
    "        \n",
    "        # Variable holding the total change of all the elements consecutively\n",
    "        total_change += change\n",
    "\n",
    "        # Variable hoilding the total amount of changes\n",
    "        count += 1\n",
    "    # \n",
    "        # Calculating average change\n",
    "        avg_chg = round(total_change / count, 2)"
   ]
  },
  {
   "cell_type": "markdown",
   "id": "49bdaaca",
   "metadata": {},
   "source": [
    "4 & 5) Calculating Min and Max values in the data set."
   ]
  },
  {
   "cell_type": "code",
   "execution_count": 6,
   "id": "5cbbb09e",
   "metadata": {},
   "outputs": [],
   "source": [
    "#) Using open function to open the csv path as budget_dt with delimiter set to ,\n",
    "with open(budgetdtpath, 'r') as budget_dt:\n",
    "    readcsv = csv.reader(budget_dt, delimiter=\",\")\n",
    "    header = next(readcsv)\n",
    "    \n",
    "    # Setting final metrics\n",
    "    g_inc = 0\n",
    "    g_dec = 0\n",
    "    profit_losses = []\n",
    "    dates = []\n",
    "    min_date = \"\"\n",
    "    max_date = \"\"\n",
    "    \n",
    "# Loop through the dataset and extract profit/loss values\n",
    "    for row in readcsv:\n",
    "        profit_losses.append(int(row[1]))\n",
    "        dates.append(row[0])"
   ]
  },
  {
   "cell_type": "code",
   "execution_count": 7,
   "id": "d03de462",
   "metadata": {},
   "outputs": [],
   "source": [
    " #print(profit_losses)\n",
    "# Loop through the changes between consecutive profit/loss values\n",
    "for i in range(1, len(profit_losses)):\n",
    "    change = profit_losses[i] - profit_losses[i-1]\n",
    "        \n",
    "    # Calculating Greatest Increase\n",
    "    if change > g_inc:\n",
    "        g_inc = change\n",
    "        max_date = dates[i]\n",
    "\n",
    "    # Calculating Greatest Decrease\n",
    "    elif change < g_dec:\n",
    "        g_dec = change\n",
    "        min_date = dates[i]"
   ]
  },
  {
   "cell_type": "code",
   "execution_count": 8,
   "id": "e81153de",
   "metadata": {},
   "outputs": [
    {
     "name": "stdout",
     "output_type": "stream",
     "text": [
      "Greatest Decrease in Profits: Sep-2013 ($-2196167)\n",
      "\n",
      "gRTEATEST Increase in Profits: Feb-2012 ($1926159)\n",
      "\n"
     ]
    }
   ],
   "source": [
    "\n",
    "print(f\"Greatest Decrease in Profits: {min_date} (${g_dec})\\n\")\n",
    "print(f\"gRTEATEST Increase in Profits: {max_date} (${g_inc})\\n\")"
   ]
  },
  {
   "cell_type": "code",
   "execution_count": 9,
   "id": "16544ca4",
   "metadata": {},
   "outputs": [
    {
     "name": "stdout",
     "output_type": "stream",
     "text": [
      "Increase in Profits: ('January', 1000) ($('December', 2000))\n",
      "\n"
     ]
    }
   ],
   "source": [
    "min_date = (\"January\", 1000)  # Replace with your actual data\n",
    "max_date = (\"December\", 2000)  # Replace with your actual data\n",
    "\n",
    "print(f\"Increase in Profits: {min_date} (${max_date})\\n\")\n"
   ]
  },
  {
   "cell_type": "markdown",
   "id": "4b246ebc",
   "metadata": {},
   "source": [
    "Printing all values"
   ]
  },
  {
   "cell_type": "code",
   "execution_count": 10,
   "id": "eb6c3bf3",
   "metadata": {},
   "outputs": [
    {
     "name": "stdout",
     "output_type": "stream",
     "text": [
      "Financial Analysis\n",
      "----------------------------\n",
      "Total months: 86\n",
      "Total P&L: 38382578\n",
      "Average Change: $-2315.12\n",
      "Greatest Increase in Profits: 1926159\n",
      "Greatest Decrease in Profits: -2196167\n"
     ]
    }
   ],
   "source": [
    "print(\"Financial Analysis\")\n",
    "print(\"----------------------------\")\n",
    "print(f\"Total months: {total_num_months}\")\n",
    "print(f\"Total P&L: {net_total}\")\n",
    "print(f\"Average Change: ${round(avg_chg, 2)}\")\n",
    "print(f\"Greatest Increase in Profits: {g_inc}\")\n",
    "print(f\"Greatest Decrease in Profits: {g_dec}\")"
   ]
  },
  {
   "cell_type": "code",
   "execution_count": 11,
   "id": "a6243c87",
   "metadata": {},
   "outputs": [],
   "source": [
    "file_to_output = Path('C:\\\\Users\\\\Gino\\\\OneDrive\\\\Documents\\\\GitHub\\\\python-challenge\\\\PyBank\\\\Resources\\\\budget_analysis.txt')"
   ]
  },
  {
   "cell_type": "code",
   "execution_count": 12,
   "id": "0ff77093",
   "metadata": {},
   "outputs": [],
   "source": [
    "with open(file_to_output, \"w\") as txt_file:\n",
    "    txt_file.write(f\"Financial Analysis\\n\")\n",
    "    txt_file.write(f\"----------------------------\\n\")\n",
    "    txt_file.write(f\"Total months: {total_num_months}\\n\")\n",
    "    txt_file.write(f\"Total P&L: {net_total}\\n\")\n",
    "    txt_file.write(f\"Average Change: ${round(avg_chg, 2)}\\n\")\n",
    "    txt_file.write(f\"Greatest Decrease in Profits: {min_date} (${g_dec})\\n\")\n",
    "    txt_file.write(f\"gRTEATEST Increase in Profits: {max_date} (${g_inc})\\n\")"
   ]
  },
  {
   "cell_type": "markdown",
   "id": "bad59cb6",
   "metadata": {},
   "source": [
    "\n"
   ]
  }
 ],
 "metadata": {
  "kernelspec": {
   "display_name": "Python 3 (ipykernel)",
   "language": "python",
   "name": "python3"
  },
  "language_info": {
   "codemirror_mode": {
    "name": "ipython",
    "version": 3
   },
   "file_extension": ".py",
   "mimetype": "text/x-python",
   "name": "python",
   "nbconvert_exporter": "python",
   "pygments_lexer": "ipython3",
   "version": "3.9.13"
  }
 },
 "nbformat": 4,
 "nbformat_minor": 5
}
