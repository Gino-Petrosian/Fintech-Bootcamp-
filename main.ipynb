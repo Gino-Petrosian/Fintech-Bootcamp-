{
 "cells": [
  {
   "cell_type": "markdown",
   "id": "1b0a54b6-7878-473b-9e28-d1744aca02d6",
   "metadata": {},
   "source": [
    "Importing Dependicies ** Go over Markdown editing and make changes **"
   ]
  },
  {
   "cell_type": "code",
   "execution_count": 1,
   "id": "f21940f1",
   "metadata": {},
   "outputs": [],
   "source": [
    "from pathlib import Path\n",
    "import csv"
   ]
  },
  {
   "cell_type": "markdown",
   "id": "1e743e36",
   "metadata": {},
   "source": [
    "Setting metric variables"
   ]
  },
  {
   "cell_type": "code",
   "execution_count": 2,
   "id": "0f4b8951",
   "metadata": {},
   "outputs": [],
   "source": [
    "total_num_months = 0\n",
    "net_total = 0 \n",
    "avg_chg = 0\n",
    "greatest_inc_p = 0 # date and amount\n",
    "greatest_dec_p = 0 # date and amount\n"
   ]
  },
  {
   "cell_type": "markdown",
   "id": "69850e1e",
   "metadata": {},
   "source": [
    "Declaring CSV path variable"
   ]
  },
  {
   "cell_type": "code",
   "execution_count": 3,
   "id": "66c4dd4f",
   "metadata": {},
   "outputs": [],
   "source": [
    "budgetdtpath = Path('C:\\\\Users\\\\Gino\\\\OneDrive\\\\Documents\\\\GitHub\\\\python-challenge\\\\PyBank\\\\Resources\\\\budget_data.csv')"
   ]
  },
  {
   "cell_type": "markdown",
   "id": "198ddf52",
   "metadata": {},
   "source": [
    "Main script"
   ]
  },
  {
   "cell_type": "code",
   "execution_count": 4,
   "id": "18b729dd",
   "metadata": {},
   "outputs": [],
   "source": [
    "# Using open function to open the csv path as budget_dt with delimiter set to ,\n",
    "with open(budgetdtpath, 'r') as budget_dt:\n",
    "    readcsv = csv.reader(budget_dt, delimiter=\",\")\n",
    "\n",
    "    # Setting header variable and skipping over it in the data file\n",
    "    header = next(readcsv)\n",
    "    \n",
    "    # Setting variables/ metric values\n",
    "    p_l = []\n",
    "    total_change = 0\n",
    "    count = 0\n",
    "    #Iterating over the data file\n",
    "    for row, pnl in readcsv:\n",
    "        \n",
    "        # 1) Calculating total number of months\n",
    "        total_num_months += 1\n",
    "        \n",
    "        # 2) Calculating net total pnl\n",
    "        net_total += int(pnl)\n",
    "\n",
    "# Unsure why the following does not work, added in new code cell, copy and pasting into new cell re-reading csv file all together works\n",
    "    #     # 3) Calculating average change in Proft and Losses over the entire period \n",
    "    # for row in readcsv:\n",
    "    #     p_l = []\n",
    "    #     p_l.append(int(row[1]))\n",
    "    #     print(p_l)    \n",
    "    #     # Iterating through new list \n",
    "    # for i in range(1, len(p_l)):\n",
    "    #     count = 0\n",
    "        \n",
    "    #     # Creating a new variable that consecutively calculates the diffrence betweem each element in the new list\n",
    "    #     change = p_l[i] - p_l[i - 1]\n",
    "        \n",
    "    #     # Variable holding the total change of all the elements consecutively\n",
    "    #     total_change = 0\n",
    "    #     total_change += change\n",
    "    #     print(total_change)\n",
    "    #     # Variable hoilding the total amount of changes\n",
    "    #     count += 1\n",
    "    \n",
    "    #     # Calculating average change\n",
    "    #     avg_chg = total_change / count\n",
    "\n",
    "    # 4) Calcualting greatest increase and decrease in profits\n",
    "    \n",
    "\n",
    "# print(\"Financial Analysis\")\n",
    "# print(\"----------------------------\")\n",
    "# print(f\"Total months: {total_num_months}\")\n",
    "# print(f\"Total P&L: {net_total}\")\n",
    "# print(f\"Average Change: ${round(avg_chg, 2)}\") # !!!STILL NOT WORKING!!!\n",
    "# #print(f\"Greatest Increase in Profits: {g_inc}\") # Attach Date\n",
    "# #print(f\"Greatest Decrease in Profits: {g_dec}\") # Attach Date\n"
   ]
  },
  {
   "cell_type": "markdown",
   "id": "650207bc",
   "metadata": {},
   "source": [
    "3) Calculating average change in Proft and Losses over the entire period"
   ]
  },
  {
   "cell_type": "code",
   "execution_count": 5,
   "id": "4970b87c",
   "metadata": {},
   "outputs": [],
   "source": [
    "# Using open function to open the csv path as budget_dt with delimiter set to ,\n",
    "with open(budgetdtpath, 'r') as budget_dt:\n",
    "    readcsv = csv.reader(budget_dt, delimiter=\",\")\n",
    "\n",
    "    # Setting header variable and skipping over it in the data file\n",
    "    header = next(readcsv)\n",
    "    \n",
    "    # Setting variables/ metric values\n",
    "    p_l = []\n",
    "    total_change = 0\n",
    "    count = 0\n",
    "    \n",
    "    # Ierating over csv file and appending Profit / Loss column to new list\n",
    "    for row in readcsv:\n",
    "        p_l.append(int(row[1]))    \n",
    "       \n",
    "    # Iterating through new list \n",
    "    for i in range(1, len(p_l)):\n",
    "        \n",
    "        # Creating a new variable that consecutively calculates the diffrence between each element in the new list\n",
    "        change = p_l[i] - p_l[i - 1]\n",
    "        \n",
    "        # Variable holding the total change of all the elements consecutively\n",
    "        total_change += change\n",
    "\n",
    "        # Variable hoilding the total amount of changes\n",
    "        count += 1\n",
    "    \n",
    "        # Calculating average change\n",
    "        avg_chg = round(total_change / count, 2)"
   ]
  },
  {
   "cell_type": "markdown",
   "id": "49bdaaca",
   "metadata": {},
   "source": [
    "3) Calculating Average change over the data set"
   ]
  },
  {
   "cell_type": "code",
   "execution_count": 6,
   "id": "5cbbb09e",
   "metadata": {},
   "outputs": [
    {
     "name": "stdout",
     "output_type": "stream",
     "text": [
      "116771\n",
      "-662642\n",
      "510239\n",
      "-821271\n",
      "693918\n",
      "-974163\n",
      "860159\n",
      "-1115009\n",
      "1926159\n",
      "-1529236\n",
      "1926159\n",
      "-2196167\n"
     ]
    }
   ],
   "source": [
    "#) Using open function to open the csv path as budget_dt with delimiter set to ,\n",
    "with open(budgetdtpath, 'r') as budget_dt:\n",
    "    readcsv = csv.reader(budget_dt, delimiter=\",\")\n",
    "    header = next(readcsv)\n",
    "    \n",
    "    # Setting final metrics\n",
    "    g_inc = 0\n",
    "    g_dec = 0\n",
    "    profit_losses = []\n",
    "\n",
    "# Loop through the dataset and extract profit/loss values\n",
    "    for row in readcsv:\n",
    "        profit_losses.append(int(row[1]))\n",
    "\n",
    "# Loop through the changes between consecutive profit/loss values\n",
    "    for i in range(1, len(profit_losses)):\n",
    "        change = profit_losses[i] - profit_losses[i-1]\n",
    "\n",
    "    # Calculating Greatest Increase\n",
    "        if change > g_inc:\n",
    "            g_inc = change\n",
    "    \n",
    "    # Calculating Greatest Decrease    \n",
    "        elif change < g_dec:\n",
    "            g_dec = change\n",
    "            print(g_inc)\n",
    "            print(g_dec)\n",
    "    "
   ]
  },
  {
   "cell_type": "code",
   "execution_count": 7,
   "id": "eb6c3bf3",
   "metadata": {},
   "outputs": [
    {
     "name": "stdout",
     "output_type": "stream",
     "text": [
      "Financial Analysis\n",
      "----------------------------\n",
      "Total months: 86\n",
      "Total P&L: 38382578\n",
      "Average Change: $-2315.12\n"
     ]
    }
   ],
   "source": [
    "print(\"Financial Analysis\")\n",
    "print(\"----------------------------\")\n",
    "print(f\"Total months: {total_num_months}\")\n",
    "print(f\"Total P&L: {net_total}\")\n",
    "print(f\"Average Change: ${round(avg_chg, 2)}\")\n",
    "#print(f\"Greatest Increase in Profits: {g_inc}\")\n",
    "#print(f\"Greatest Decrease in Profits: {g_dec}\")\n"
   ]
  },
  {
   "cell_type": "markdown",
   "id": "bad59cb6",
   "metadata": {},
   "source": [
    "\n"
   ]
  }
 ],
 "metadata": {
  "kernelspec": {
   "display_name": "Python 3 (ipykernel)",
   "language": "python",
   "name": "python3"
  },
  "language_info": {
   "codemirror_mode": {
    "name": "ipython",
    "version": 3
   },
   "file_extension": ".py",
   "mimetype": "text/x-python",
   "name": "python",
   "nbconvert_exporter": "python",
   "pygments_lexer": "ipython3",
   "version": "3.9.13"
  }
 },
 "nbformat": 4,
 "nbformat_minor": 5
}
